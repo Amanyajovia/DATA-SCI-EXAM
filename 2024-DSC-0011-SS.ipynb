{
 "cells": [
  {
   "cell_type": "markdown",
   "id": "c67e0a1b-6eee-47f1-a031-a106b441fba7",
   "metadata": {},
   "source": [
    "## QUESTION 1 (VARIATION AND VARIABILITY)¶"
   ]
  },
  {
   "cell_type": "code",
   "execution_count": 2,
   "id": "9e9fafb6-b272-411a-a377-4bc574953426",
   "metadata": {},
   "outputs": [
    {
     "name": "stdout",
     "output_type": "stream",
     "text": [
      "Collecting numpy\n",
      "  Downloading numpy-2.2.0-cp312-cp312-win_amd64.whl.metadata (60 kB)\n",
      "Downloading numpy-2.2.0-cp312-cp312-win_amd64.whl (12.6 MB)\n",
      "   ---------------------------------------- 0.0/12.6 MB ? eta -:--:--\n",
      "   - -------------------------------------- 0.5/12.6 MB 2.8 MB/s eta 0:00:05\n",
      "   ---- ----------------------------------- 1.3/12.6 MB 3.7 MB/s eta 0:00:04\n",
      "   -------- ------------------------------- 2.6/12.6 MB 5.0 MB/s eta 0:00:02\n",
      "   ----------- ---------------------------- 3.7/12.6 MB 5.1 MB/s eta 0:00:02\n",
      "   ----------------- ---------------------- 5.5/12.6 MB 5.8 MB/s eta 0:00:02\n",
      "   ---------------------- ----------------- 7.1/12.6 MB 6.2 MB/s eta 0:00:01\n",
      "   -------------------------- ------------- 8.4/12.6 MB 6.0 MB/s eta 0:00:01\n",
      "   -------------------------------- ------- 10.2/12.6 MB 6.4 MB/s eta 0:00:01\n",
      "   -------------------------------------- - 12.1/12.6 MB 6.7 MB/s eta 0:00:01\n",
      "   ---------------------------------------- 12.6/12.6 MB 6.6 MB/s eta 0:00:00\n",
      "Installing collected packages: numpy\n",
      "Successfully installed numpy-2.2.0\n",
      "Note: you may need to restart the kernel to use updated packages.\n"
     ]
    },
    {
     "name": "stderr",
     "output_type": "stream",
     "text": [
      "\n",
      "[notice] A new release of pip is available: 24.2 -> 24.3.1\n",
      "[notice] To update, run: python.exe -m pip install --upgrade pip\n"
     ]
    }
   ],
   "source": [
    "pip install numpy"
   ]
  },
  {
   "cell_type": "code",
   "execution_count": 9,
   "id": "e6acc95a-17f2-497d-a55b-40dd926c8f08",
   "metadata": {},
   "outputs": [
    {
     "name": "stdout",
     "output_type": "stream",
     "text": [
      "Requirement already satisfied: pandas in c:\\users\\admin\\desktop\\data sci exam\\myenv\\lib\\site-packages (2.2.3)\n",
      "Requirement already satisfied: numpy>=1.26.0 in c:\\users\\admin\\desktop\\data sci exam\\myenv\\lib\\site-packages (from pandas) (2.2.0)\n",
      "Requirement already satisfied: python-dateutil>=2.8.2 in c:\\users\\admin\\desktop\\data sci exam\\myenv\\lib\\site-packages (from pandas) (2.9.0.post0)\n",
      "Requirement already satisfied: pytz>=2020.1 in c:\\users\\admin\\desktop\\data sci exam\\myenv\\lib\\site-packages (from pandas) (2024.2)\n",
      "Requirement already satisfied: tzdata>=2022.7 in c:\\users\\admin\\desktop\\data sci exam\\myenv\\lib\\site-packages (from pandas) (2024.2)\n",
      "Requirement already satisfied: six>=1.5 in c:\\users\\admin\\desktop\\data sci exam\\myenv\\lib\\site-packages (from python-dateutil>=2.8.2->pandas) (1.17.0)\n",
      "Note: you may need to restart the kernel to use updated packages.\n"
     ]
    },
    {
     "name": "stderr",
     "output_type": "stream",
     "text": [
      "\n",
      "[notice] A new release of pip is available: 24.2 -> 24.3.1\n",
      "[notice] To update, run: python.exe -m pip install --upgrade pip\n"
     ]
    }
   ],
   "source": [
    "pip install pandas\n"
   ]
  },
  {
   "cell_type": "code",
   "execution_count": 37,
   "id": "c58cea16-a6f9-4385-b3bd-17072f606e41",
   "metadata": {},
   "outputs": [],
   "source": [
    "import numpy as np\n",
    "import pandas as pd\n",
    "import matplotlib.pyplot as plt\n",
    "import seaborn as sns"
   ]
  },
  {
   "cell_type": "code",
   "execution_count": 36,
   "id": "fcf9d003-3d7f-4982-a196-d7e0299e1edb",
   "metadata": {},
   "outputs": [
    {
     "data": {
      "text/html": [
       "<div>\n",
       "<style scoped>\n",
       "    .dataframe tbody tr th:only-of-type {\n",
       "        vertical-align: middle;\n",
       "    }\n",
       "\n",
       "    .dataframe tbody tr th {\n",
       "        vertical-align: top;\n",
       "    }\n",
       "\n",
       "    .dataframe thead th {\n",
       "        text-align: right;\n",
       "    }\n",
       "</style>\n",
       "<table border=\"1\" class=\"dataframe\">\n",
       "  <thead>\n",
       "    <tr style=\"text-align: right;\">\n",
       "      <th></th>\n",
       "      <th>Age</th>\n",
       "      <th>Sex</th>\n",
       "      <th>Marital_status</th>\n",
       "      <th>Number_of_children</th>\n",
       "      <th>Family_size</th>\n",
       "      <th>Education-degree_recode</th>\n",
       "      <th>Education-degree_recode 2</th>\n",
       "      <th>Education</th>\n",
       "      <th>Race_ethnicity-multi_recode</th>\n",
       "      <th>Immigrate-year</th>\n",
       "      <th>Birthplace_recode</th>\n",
       "      <th>Speaks_English</th>\n",
       "      <th>Employment_status</th>\n",
       "      <th>Income-wages</th>\n",
       "      <th>Region_recode</th>\n",
       "      <th>Region-division_recode</th>\n",
       "      <th>Moved</th>\n",
       "      <th>Year</th>\n",
       "      <th>state</th>\n",
       "    </tr>\n",
       "  </thead>\n",
       "  <tbody>\n",
       "    <tr>\n",
       "      <th>0</th>\n",
       "      <td>30</td>\n",
       "      <td>Male</td>\n",
       "      <td>Married, spouse present</td>\n",
       "      <td>2</td>\n",
       "      <td>4</td>\n",
       "      <td>Masterâ€™s or professional degree</td>\n",
       "      <td>Master or professional degree</td>\n",
       "      <td>Master or PhD or professional degree</td>\n",
       "      <td>Non-Hispanic White</td>\n",
       "      <td>0</td>\n",
       "      <td>U.S. state, territory, or outlying region</td>\n",
       "      <td>Yes, speaks only English</td>\n",
       "      <td>Employed</td>\n",
       "      <td>63000</td>\n",
       "      <td>South</td>\n",
       "      <td>East South Central</td>\n",
       "      <td>Same house</td>\n",
       "      <td>2020</td>\n",
       "      <td>Tennessee</td>\n",
       "    </tr>\n",
       "    <tr>\n",
       "      <th>1</th>\n",
       "      <td>28</td>\n",
       "      <td>Female</td>\n",
       "      <td>Married, spouse present</td>\n",
       "      <td>1 child present</td>\n",
       "      <td>3</td>\n",
       "      <td>Masterâ€™s or professional degree</td>\n",
       "      <td>Master or professional degree</td>\n",
       "      <td>Master or PhD or professional degree</td>\n",
       "      <td>Non-Hispanic White</td>\n",
       "      <td>0</td>\n",
       "      <td>U.S. state, territory, or outlying region</td>\n",
       "      <td>Yes, speaks only English</td>\n",
       "      <td>Employed</td>\n",
       "      <td>46000</td>\n",
       "      <td>South</td>\n",
       "      <td>East South Central</td>\n",
       "      <td>Same house</td>\n",
       "      <td>2020</td>\n",
       "      <td>Tennessee</td>\n",
       "    </tr>\n",
       "    <tr>\n",
       "      <th>2</th>\n",
       "      <td>34</td>\n",
       "      <td>Male</td>\n",
       "      <td>Married, spouse present</td>\n",
       "      <td>1 child present</td>\n",
       "      <td>3</td>\n",
       "      <td>Bachelorâ€™s degree</td>\n",
       "      <td>Bachelor degree</td>\n",
       "      <td>Associate or Bachelor degree</td>\n",
       "      <td>Non-Hispanic White</td>\n",
       "      <td>0</td>\n",
       "      <td>U.S. state, territory, or outlying region</td>\n",
       "      <td>Yes, speaks only English</td>\n",
       "      <td>Employed</td>\n",
       "      <td>45000</td>\n",
       "      <td>South</td>\n",
       "      <td>East South Central</td>\n",
       "      <td>Same house</td>\n",
       "      <td>2020</td>\n",
       "      <td>Tennessee</td>\n",
       "    </tr>\n",
       "    <tr>\n",
       "      <th>3</th>\n",
       "      <td>58</td>\n",
       "      <td>Female</td>\n",
       "      <td>Married, spouse absent</td>\n",
       "      <td>1 child present</td>\n",
       "      <td>2</td>\n",
       "      <td>1 or more years of college, no degree</td>\n",
       "      <td>1 or more years of college, no degree</td>\n",
       "      <td>1 or more years of college, no degree</td>\n",
       "      <td>Non-Hispanic White</td>\n",
       "      <td>0</td>\n",
       "      <td>U.S. state, territory, or outlying region</td>\n",
       "      <td>Yes, speaks only English</td>\n",
       "      <td>Employed</td>\n",
       "      <td>55000</td>\n",
       "      <td>South</td>\n",
       "      <td>East South Central</td>\n",
       "      <td>Same house</td>\n",
       "      <td>2020</td>\n",
       "      <td>Tennessee</td>\n",
       "    </tr>\n",
       "    <tr>\n",
       "      <th>4</th>\n",
       "      <td>39</td>\n",
       "      <td>Male</td>\n",
       "      <td>Never married/single</td>\n",
       "      <td>0 children present</td>\n",
       "      <td>1</td>\n",
       "      <td>Bachelorâ€™s degree</td>\n",
       "      <td>Bachelor degree</td>\n",
       "      <td>Associate or Bachelor degree</td>\n",
       "      <td>Non-Hispanic White</td>\n",
       "      <td>0</td>\n",
       "      <td>U.S. state, territory, or outlying region</td>\n",
       "      <td>Yes, speaks only English</td>\n",
       "      <td>Employed</td>\n",
       "      <td>12000</td>\n",
       "      <td>South</td>\n",
       "      <td>East South Central</td>\n",
       "      <td>Same house</td>\n",
       "      <td>2020</td>\n",
       "      <td>Tennessee</td>\n",
       "    </tr>\n",
       "    <tr>\n",
       "      <th>...</th>\n",
       "      <td>...</td>\n",
       "      <td>...</td>\n",
       "      <td>...</td>\n",
       "      <td>...</td>\n",
       "      <td>...</td>\n",
       "      <td>...</td>\n",
       "      <td>...</td>\n",
       "      <td>...</td>\n",
       "      <td>...</td>\n",
       "      <td>...</td>\n",
       "      <td>...</td>\n",
       "      <td>...</td>\n",
       "      <td>...</td>\n",
       "      <td>...</td>\n",
       "      <td>...</td>\n",
       "      <td>...</td>\n",
       "      <td>...</td>\n",
       "      <td>...</td>\n",
       "      <td>...</td>\n",
       "    </tr>\n",
       "    <tr>\n",
       "      <th>4360</th>\n",
       "      <td>67</td>\n",
       "      <td>Male</td>\n",
       "      <td>Married, spouse present</td>\n",
       "      <td>0 children present</td>\n",
       "      <td>2</td>\n",
       "      <td>Bachelorâ€™s degree</td>\n",
       "      <td>Bachelor degree</td>\n",
       "      <td>Associate or Bachelor degree</td>\n",
       "      <td>Non-Hispanic White</td>\n",
       "      <td>0</td>\n",
       "      <td>U.S. state, territory, or outlying region</td>\n",
       "      <td>Yes, speaks only English</td>\n",
       "      <td>Employed</td>\n",
       "      <td>40000</td>\n",
       "      <td>Midwest</td>\n",
       "      <td>West North Central</td>\n",
       "      <td>Same house</td>\n",
       "      <td>2020</td>\n",
       "      <td>North Dakota</td>\n",
       "    </tr>\n",
       "    <tr>\n",
       "      <th>4361</th>\n",
       "      <td>48</td>\n",
       "      <td>Male</td>\n",
       "      <td>Married, spouse present</td>\n",
       "      <td>4</td>\n",
       "      <td>6</td>\n",
       "      <td>Associateâ€™s degree</td>\n",
       "      <td>Associate degree</td>\n",
       "      <td>Associate or Bachelor degree</td>\n",
       "      <td>Non-Hispanic White</td>\n",
       "      <td>0</td>\n",
       "      <td>U.S. state, territory, or outlying region</td>\n",
       "      <td>Yes, speaks only English</td>\n",
       "      <td>Employed</td>\n",
       "      <td>65000</td>\n",
       "      <td>Midwest</td>\n",
       "      <td>West North Central</td>\n",
       "      <td>Same house</td>\n",
       "      <td>2020</td>\n",
       "      <td>North Dakota</td>\n",
       "    </tr>\n",
       "    <tr>\n",
       "      <th>4362</th>\n",
       "      <td>33</td>\n",
       "      <td>Male</td>\n",
       "      <td>Married, spouse absent</td>\n",
       "      <td>0 children present</td>\n",
       "      <td>1</td>\n",
       "      <td>Associateâ€™s degree</td>\n",
       "      <td>Associate degree</td>\n",
       "      <td>Associate or Bachelor degree</td>\n",
       "      <td>Non-Hispanic Black</td>\n",
       "      <td>2017</td>\n",
       "      <td>Africa</td>\n",
       "      <td>Yes, speaks very well</td>\n",
       "      <td>Employed</td>\n",
       "      <td>45000</td>\n",
       "      <td>Midwest</td>\n",
       "      <td>West North Central</td>\n",
       "      <td>Same house</td>\n",
       "      <td>2020</td>\n",
       "      <td>North Dakota</td>\n",
       "    </tr>\n",
       "    <tr>\n",
       "      <th>4363</th>\n",
       "      <td>22</td>\n",
       "      <td>Female</td>\n",
       "      <td>Never married/single</td>\n",
       "      <td>0 children present</td>\n",
       "      <td>2</td>\n",
       "      <td>1 or more years of college, no degree</td>\n",
       "      <td>1 or more years of college, no degree</td>\n",
       "      <td>1 or more years of college, no degree</td>\n",
       "      <td>Non-Hispanic White</td>\n",
       "      <td>0</td>\n",
       "      <td>U.S. state, territory, or outlying region</td>\n",
       "      <td>Yes, speaks only English</td>\n",
       "      <td>Employed</td>\n",
       "      <td>500</td>\n",
       "      <td>Midwest</td>\n",
       "      <td>West North Central</td>\n",
       "      <td>Same house</td>\n",
       "      <td>2020</td>\n",
       "      <td>North Dakota</td>\n",
       "    </tr>\n",
       "    <tr>\n",
       "      <th>4364</th>\n",
       "      <td>49</td>\n",
       "      <td>Female</td>\n",
       "      <td>Married, spouse present</td>\n",
       "      <td>2</td>\n",
       "      <td>4</td>\n",
       "      <td>Masterâ€™s or professional degree</td>\n",
       "      <td>Master or professional degree</td>\n",
       "      <td>Master or PhD or professional degree</td>\n",
       "      <td>Non-Hispanic White</td>\n",
       "      <td>0</td>\n",
       "      <td>U.S. state, territory, or outlying region</td>\n",
       "      <td>Yes, speaks only English</td>\n",
       "      <td>Employed</td>\n",
       "      <td>498000</td>\n",
       "      <td>Midwest</td>\n",
       "      <td>West North Central</td>\n",
       "      <td>Same house</td>\n",
       "      <td>2020</td>\n",
       "      <td>North Dakota</td>\n",
       "    </tr>\n",
       "  </tbody>\n",
       "</table>\n",
       "<p>4365 rows × 19 columns</p>\n",
       "</div>"
      ],
      "text/plain": [
       "      Age     Sex           Marital_status  Number_of_children  Family_size  \\\n",
       "0      30    Male  Married, spouse present                   2            4   \n",
       "1      28  Female  Married, spouse present     1 child present            3   \n",
       "2      34    Male  Married, spouse present     1 child present            3   \n",
       "3      58  Female   Married, spouse absent     1 child present            2   \n",
       "4      39    Male     Never married/single  0 children present            1   \n",
       "...   ...     ...                      ...                 ...          ...   \n",
       "4360   67    Male  Married, spouse present  0 children present            2   \n",
       "4361   48    Male  Married, spouse present                   4            6   \n",
       "4362   33    Male   Married, spouse absent  0 children present            1   \n",
       "4363   22  Female     Never married/single  0 children present            2   \n",
       "4364   49  Female  Married, spouse present                   2            4   \n",
       "\n",
       "                    Education-degree_recode  \\\n",
       "0         Masterâ€™s or professional degree   \n",
       "1         Masterâ€™s or professional degree   \n",
       "2                       Bachelorâ€™s degree   \n",
       "3     1 or more years of college, no degree   \n",
       "4                       Bachelorâ€™s degree   \n",
       "...                                     ...   \n",
       "4360                    Bachelorâ€™s degree   \n",
       "4361                   Associateâ€™s degree   \n",
       "4362                   Associateâ€™s degree   \n",
       "4363  1 or more years of college, no degree   \n",
       "4364      Masterâ€™s or professional degree   \n",
       "\n",
       "                  Education-degree_recode 2  \\\n",
       "0             Master or professional degree   \n",
       "1             Master or professional degree   \n",
       "2                           Bachelor degree   \n",
       "3     1 or more years of college, no degree   \n",
       "4                           Bachelor degree   \n",
       "...                                     ...   \n",
       "4360                        Bachelor degree   \n",
       "4361                       Associate degree   \n",
       "4362                       Associate degree   \n",
       "4363  1 or more years of college, no degree   \n",
       "4364          Master or professional degree   \n",
       "\n",
       "                                  Education Race_ethnicity-multi_recode  \\\n",
       "0      Master or PhD or professional degree          Non-Hispanic White   \n",
       "1      Master or PhD or professional degree          Non-Hispanic White   \n",
       "2              Associate or Bachelor degree          Non-Hispanic White   \n",
       "3     1 or more years of college, no degree          Non-Hispanic White   \n",
       "4              Associate or Bachelor degree          Non-Hispanic White   \n",
       "...                                     ...                         ...   \n",
       "4360           Associate or Bachelor degree          Non-Hispanic White   \n",
       "4361           Associate or Bachelor degree          Non-Hispanic White   \n",
       "4362           Associate or Bachelor degree          Non-Hispanic Black   \n",
       "4363  1 or more years of college, no degree          Non-Hispanic White   \n",
       "4364   Master or PhD or professional degree          Non-Hispanic White   \n",
       "\n",
       "      Immigrate-year                          Birthplace_recode  \\\n",
       "0                  0  U.S. state, territory, or outlying region   \n",
       "1                  0  U.S. state, territory, or outlying region   \n",
       "2                  0  U.S. state, territory, or outlying region   \n",
       "3                  0  U.S. state, territory, or outlying region   \n",
       "4                  0  U.S. state, territory, or outlying region   \n",
       "...              ...                                        ...   \n",
       "4360               0  U.S. state, territory, or outlying region   \n",
       "4361               0  U.S. state, territory, or outlying region   \n",
       "4362            2017                                     Africa   \n",
       "4363               0  U.S. state, territory, or outlying region   \n",
       "4364               0  U.S. state, territory, or outlying region   \n",
       "\n",
       "                Speaks_English Employment_status  Income-wages Region_recode  \\\n",
       "0     Yes, speaks only English          Employed         63000         South   \n",
       "1     Yes, speaks only English          Employed         46000         South   \n",
       "2     Yes, speaks only English          Employed         45000         South   \n",
       "3     Yes, speaks only English          Employed         55000         South   \n",
       "4     Yes, speaks only English          Employed         12000         South   \n",
       "...                        ...               ...           ...           ...   \n",
       "4360  Yes, speaks only English          Employed         40000       Midwest   \n",
       "4361  Yes, speaks only English          Employed         65000       Midwest   \n",
       "4362     Yes, speaks very well          Employed         45000       Midwest   \n",
       "4363  Yes, speaks only English          Employed           500       Midwest   \n",
       "4364  Yes, speaks only English          Employed        498000       Midwest   \n",
       "\n",
       "     Region-division_recode       Moved  Year         state  \n",
       "0        East South Central  Same house  2020     Tennessee  \n",
       "1        East South Central  Same house  2020     Tennessee  \n",
       "2        East South Central  Same house  2020     Tennessee  \n",
       "3        East South Central  Same house  2020     Tennessee  \n",
       "4        East South Central  Same house  2020     Tennessee  \n",
       "...                     ...         ...   ...           ...  \n",
       "4360     West North Central  Same house  2020  North Dakota  \n",
       "4361     West North Central  Same house  2020  North Dakota  \n",
       "4362     West North Central  Same house  2020  North Dakota  \n",
       "4363     West North Central  Same house  2020  North Dakota  \n",
       "4364     West North Central  Same house  2020  North Dakota  \n",
       "\n",
       "[4365 rows x 19 columns]"
      ]
     },
     "execution_count": 36,
     "metadata": {},
     "output_type": "execute_result"
    }
   ],
   "source": [
    "df = pd.read_excel(r'C:\\Users\\Admin\\Wages 2020Census cleaned.xlsx')\n",
    "df"
   ]
  },
  {
   "cell_type": "code",
   "execution_count": 38,
   "id": "35d90f4a-31e3-4320-a599-f1f18a4a19fe",
   "metadata": {},
   "outputs": [
    {
     "name": "stdout",
     "output_type": "stream",
     "text": [
      "41.68888888888889\n",
      "41.0\n"
     ]
    }
   ],
   "source": [
    "## 1(a)\n",
    "# For this example, we assume 'income', 'education_level', and 'region' columns exist.\n",
    "# First, let's get the summary statistics for income\n",
    "\n",
    "mean_age = df['Age'].mean()\n",
    "median_age = df['Age'].median()\n",
    "std_age = df['Age'].std()\n",
    "quantile_age  = df['Age'].quantile(0.75)\n",
    "\n",
    "# (a) \"Typical\" yearly income - Mean and Median\n",
    "print(mean_age)\n",
    "print(median_age)\n"
   ]
  },
  {
   "cell_type": "code",
   "execution_count": 39,
   "id": "5e086cb9-b9bb-4734-ac6c-1e6e3d6d9f38",
   "metadata": {},
   "outputs": [
    {
     "name": "stdout",
     "output_type": "stream",
     "text": [
      "Standard Deviation: 14.29\n"
     ]
    }
   ],
   "source": [
    "# (b)\n",
    "# checking whether the yearly incomes varies by getting the Standard deviation.\n",
    "print(f\"Standard Deviation: {std_age:.2f}\")\n",
    "# High standard deviation implies high variability.\n",
    "# It means there is low variability"
   ]
  },
  {
   "cell_type": "code",
   "execution_count": 13,
   "id": "df24dfb0-251f-4cce-8350-db9831b41beb",
   "metadata": {},
   "outputs": [
    {
     "name": "stdout",
     "output_type": "stream",
     "text": [
      "If there was no variability, Standard Deviation would be: 0\n",
      "If there was no variability, IQR would be: 0\n"
     ]
    }
   ],
   "source": [
    "# (c) \n",
    "# If there was no variability in income\n",
    "print(f\"If there was no variability, Standard Deviation would be: 0\")\n",
    "print(f\"If there was no variability, IQR would be: 0\")"
   ]
  },
  {
   "cell_type": "code",
   "execution_count": 43,
   "id": "41526469-36a3-41e1-970c-a5b9fb6cdda9",
   "metadata": {},
   "outputs": [
    {
     "data": {
      "image/png": "[encoded data removed]",
      "text/plain": [
       "<Figure size 1000x600 with 1 Axes>"
      ]
     },
     "metadata": {},
     "output_type": "display_data"
    }
   ],
   "source": [
    "# (e)\n",
    "#  Checking income variability by family size\n",
    "plt.figure(figsize=(10, 6))\n",
    "sns.boxplot(df, x='Family_size', y='Age')\n",
    "plt.title(\"HOW FAMILY SIZE VARIES WITH AGE\")\n",
    "plt.xticks(rotation=45)\n",
    "plt.show()\n"
   ]
  },
  {
   "cell_type": "code",
   "execution_count": null,
   "id": "e196916e-979d-462d-a44b-edc17e5579be",
   "metadata": {},
   "outputs": [],
   "source": [
    "Muhame i failed to figure out some sub questions.\n",
    "\n",
    "I tried out my best.THANKS"
   ]
  },
  {
   "cell_type": "markdown",
   "id": "8cd08aac-bdfa-4787-ac92-16589f0edde8",
   "metadata": {},
   "source": [
    "## QUESTION 2"
   ]
  },
  {
   "cell_type": "code",
   "execution_count": 70,
   "id": "b1eef197-4d73-4d51-9706-4610be0b6cc3",
   "metadata": {},
   "outputs": [
    {
     "name": "stdout",
     "output_type": "stream",
     "text": [
      "Requirement already satisfied: pandas in c:\\users\\admin\\desktop\\data sci exam\\myenv\\lib\\site-packages (2.2.3)\n",
      "Requirement already satisfied: numpy>=1.26.0 in c:\\users\\admin\\desktop\\data sci exam\\myenv\\lib\\site-packages (from pandas) (2.2.0)\n",
      "Requirement already satisfied: python-dateutil>=2.8.2 in c:\\users\\admin\\desktop\\data sci exam\\myenv\\lib\\site-packages (from pandas) (2.9.0.post0)\n",
      "Requirement already satisfied: pytz>=2020.1 in c:\\users\\admin\\desktop\\data sci exam\\myenv\\lib\\site-packages (from pandas) (2024.2)\n",
      "Requirement already satisfied: tzdata>=2022.7 in c:\\users\\admin\\desktop\\data sci exam\\myenv\\lib\\site-packages (from pandas) (2024.2)\n",
      "Requirement already satisfied: six>=1.5 in c:\\users\\admin\\desktop\\data sci exam\\myenv\\lib\\site-packages (from python-dateutil>=2.8.2->pandas) (1.17.0)\n",
      "Note: you may need to restart the kernel to use updated packages.\n"
     ]
    },
    {
     "name": "stderr",
     "output_type": "stream",
     "text": [
      "\n",
      "[notice] A new release of pip is available: 24.2 -> 24.3.1\n",
      "[notice] To update, run: python.exe -m pip install --upgrade pip\n"
     ]
    }
   ],
   "source": [
    "pip install pandas"
   ]
  },
  {
   "cell_type": "code",
   "execution_count": 1,
   "id": "e8149374-e5b2-41ad-8a26-ce65a4ea4509",
   "metadata": {},
   "outputs": [],
   "source": [
    "import numpy as np\n",
    "import pandas as pd\n",
    "import matplotlib.pyplot as plt\n",
    "import seaborn as sns"
   ]
  },
  {
   "cell_type": "code",
   "execution_count": 15,
   "id": "44b01956-54b6-4703-8e72-068d05ce5d30",
   "metadata": {},
   "outputs": [
    {
     "data": {
      "text/html": [
       "<div>\n",
       "<style scoped>\n",
       "    .dataframe tbody tr th:only-of-type {\n",
       "        vertical-align: middle;\n",
       "    }\n",
       "\n",
       "    .dataframe tbody tr th {\n",
       "        vertical-align: top;\n",
       "    }\n",
       "\n",
       "    .dataframe thead th {\n",
       "        text-align: right;\n",
       "    }\n",
       "</style>\n",
       "<table border=\"1\" class=\"dataframe\">\n",
       "  <thead>\n",
       "    <tr style=\"text-align: right;\">\n",
       "      <th></th>\n",
       "      <th>StudentID</th>\n",
       "      <th>Gender</th>\n",
       "      <th>Age</th>\n",
       "      <th>StudyHoursPerWeek</th>\n",
       "      <th>AttendanceRate</th>\n",
       "      <th>GPA</th>\n",
       "      <th>Major</th>\n",
       "      <th>PartTimeJob</th>\n",
       "      <th>ExtraCurricularActivities</th>\n",
       "    </tr>\n",
       "  </thead>\n",
       "  <tbody>\n",
       "    <tr>\n",
       "      <th>0</th>\n",
       "      <td>1</td>\n",
       "      <td>Male</td>\n",
       "      <td>24</td>\n",
       "      <td>37</td>\n",
       "      <td>90.75</td>\n",
       "      <td>3.47</td>\n",
       "      <td>Arts</td>\n",
       "      <td>Yes</td>\n",
       "      <td>No</td>\n",
       "    </tr>\n",
       "    <tr>\n",
       "      <th>1</th>\n",
       "      <td>2</td>\n",
       "      <td>Female</td>\n",
       "      <td>22</td>\n",
       "      <td>37</td>\n",
       "      <td>74.90</td>\n",
       "      <td>2.32</td>\n",
       "      <td>Education</td>\n",
       "      <td>No</td>\n",
       "      <td>No</td>\n",
       "    </tr>\n",
       "    <tr>\n",
       "      <th>2</th>\n",
       "      <td>3</td>\n",
       "      <td>Male</td>\n",
       "      <td>22</td>\n",
       "      <td>10</td>\n",
       "      <td>53.36</td>\n",
       "      <td>2.38</td>\n",
       "      <td>Business</td>\n",
       "      <td>No</td>\n",
       "      <td>No</td>\n",
       "    </tr>\n",
       "    <tr>\n",
       "      <th>3</th>\n",
       "      <td>4</td>\n",
       "      <td>Male</td>\n",
       "      <td>24</td>\n",
       "      <td>10</td>\n",
       "      <td>70.26</td>\n",
       "      <td>3.46</td>\n",
       "      <td>Science</td>\n",
       "      <td>Yes</td>\n",
       "      <td>No</td>\n",
       "    </tr>\n",
       "    <tr>\n",
       "      <th>4</th>\n",
       "      <td>5</td>\n",
       "      <td>Male</td>\n",
       "      <td>18</td>\n",
       "      <td>19</td>\n",
       "      <td>74.87</td>\n",
       "      <td>2.31</td>\n",
       "      <td>Education</td>\n",
       "      <td>Yes</td>\n",
       "      <td>No</td>\n",
       "    </tr>\n",
       "    <tr>\n",
       "      <th>...</th>\n",
       "      <td>...</td>\n",
       "      <td>...</td>\n",
       "      <td>...</td>\n",
       "      <td>...</td>\n",
       "      <td>...</td>\n",
       "      <td>...</td>\n",
       "      <td>...</td>\n",
       "      <td>...</td>\n",
       "      <td>...</td>\n",
       "    </tr>\n",
       "    <tr>\n",
       "      <th>495</th>\n",
       "      <td>496</td>\n",
       "      <td>Male</td>\n",
       "      <td>22</td>\n",
       "      <td>37</td>\n",
       "      <td>76.61</td>\n",
       "      <td>2.97</td>\n",
       "      <td>Science</td>\n",
       "      <td>No</td>\n",
       "      <td>No</td>\n",
       "    </tr>\n",
       "    <tr>\n",
       "      <th>496</th>\n",
       "      <td>497</td>\n",
       "      <td>Male</td>\n",
       "      <td>23</td>\n",
       "      <td>11</td>\n",
       "      <td>56.29</td>\n",
       "      <td>3.20</td>\n",
       "      <td>Science</td>\n",
       "      <td>No</td>\n",
       "      <td>No</td>\n",
       "    </tr>\n",
       "    <tr>\n",
       "      <th>497</th>\n",
       "      <td>498</td>\n",
       "      <td>Female</td>\n",
       "      <td>20</td>\n",
       "      <td>6</td>\n",
       "      <td>56.64</td>\n",
       "      <td>3.20</td>\n",
       "      <td>Science</td>\n",
       "      <td>No</td>\n",
       "      <td>Yes</td>\n",
       "    </tr>\n",
       "    <tr>\n",
       "      <th>498</th>\n",
       "      <td>499</td>\n",
       "      <td>Male</td>\n",
       "      <td>22</td>\n",
       "      <td>18</td>\n",
       "      <td>57.18</td>\n",
       "      <td>2.05</td>\n",
       "      <td>Business</td>\n",
       "      <td>No</td>\n",
       "      <td>Yes</td>\n",
       "    </tr>\n",
       "    <tr>\n",
       "      <th>499</th>\n",
       "      <td>500</td>\n",
       "      <td>Female</td>\n",
       "      <td>24</td>\n",
       "      <td>21</td>\n",
       "      <td>96.99</td>\n",
       "      <td>2.64</td>\n",
       "      <td>Engineering</td>\n",
       "      <td>No</td>\n",
       "      <td>No</td>\n",
       "    </tr>\n",
       "  </tbody>\n",
       "</table>\n",
       "<p>500 rows × 9 columns</p>\n",
       "</div>"
      ],
      "text/plain": [
       "     StudentID  Gender  Age  StudyHoursPerWeek  AttendanceRate   GPA  \\\n",
       "0            1    Male   24                 37           90.75  3.47   \n",
       "1            2  Female   22                 37           74.90  2.32   \n",
       "2            3    Male   22                 10           53.36  2.38   \n",
       "3            4    Male   24                 10           70.26  3.46   \n",
       "4            5    Male   18                 19           74.87  2.31   \n",
       "..         ...     ...  ...                ...             ...   ...   \n",
       "495        496    Male   22                 37           76.61  2.97   \n",
       "496        497    Male   23                 11           56.29  3.20   \n",
       "497        498  Female   20                  6           56.64  3.20   \n",
       "498        499    Male   22                 18           57.18  2.05   \n",
       "499        500  Female   24                 21           96.99  2.64   \n",
       "\n",
       "           Major PartTimeJob ExtraCurricularActivities  \n",
       "0           Arts         Yes                        No  \n",
       "1      Education          No                        No  \n",
       "2       Business          No                        No  \n",
       "3        Science         Yes                        No  \n",
       "4      Education         Yes                        No  \n",
       "..           ...         ...                       ...  \n",
       "495      Science          No                        No  \n",
       "496      Science          No                        No  \n",
       "497      Science          No                       Yes  \n",
       "498     Business          No                       Yes  \n",
       "499  Engineering          No                        No  \n",
       "\n",
       "[500 rows x 9 columns]"
      ]
     },
     "execution_count": 15,
     "metadata": {},
     "output_type": "execute_result"
    }
   ],
   "source": [
    "# Load the dataset\n",
    "data = pd.read_csv('student_performance_data.csv')\n",
    "data"
   ]
  },
  {
   "cell_type": "code",
   "execution_count": 16,
   "id": "6dd23780-bff6-4cd2-bb6a-679a58037af1",
   "metadata": {},
   "outputs": [
    {
     "ename": "NameError",
     "evalue": "name 'student_performance_data' is not defined",
     "output_type": "error",
     "traceback": [
      "\u001b[1;31m---------------------------------------------------------------------------\u001b[0m",
      "\u001b[1;31mNameError\u001b[0m                                 Traceback (most recent call last)",
      "Cell \u001b[1;32mIn[16], line 8\u001b[0m\n\u001b[0;32m      1\u001b[0m \u001b[38;5;66;03m## (a)  I DID  THIS WITH THE KNOWLEDGE FROM STACK OVER FLOW\u001b[39;00m\n\u001b[0;32m      2\u001b[0m \n\u001b[0;32m      3\u001b[0m \u001b[38;5;66;03m# To find out which major has the highest total study hours per week for each gender, \u001b[39;00m\n\u001b[1;32m   (...)\u001b[0m\n\u001b[0;32m      6\u001b[0m \n\u001b[0;32m      7\u001b[0m \u001b[38;5;66;03m# Grouping  by gender and major, then sum the study hours\u001b[39;00m\n\u001b[1;32m----> 8\u001b[0m study_hours_per_major \u001b[38;5;241m=\u001b[39m\u001b[43mstudent_performance_data\u001b[49m\u001b[38;5;241m.\u001b[39mgroupby([\u001b[38;5;124m'\u001b[39m\u001b[38;5;124mGender\u001b[39m\u001b[38;5;124m'\u001b[39m, \u001b[38;5;124m'\u001b[39m\u001b[38;5;124mMajor\u001b[39m\u001b[38;5;124m'\u001b[39m])[\u001b[38;5;124m'\u001b[39m\u001b[38;5;124mStudyHoursPerWeek \u001b[39m\u001b[38;5;124m'\u001b[39m]\u001b[38;5;241m.\u001b[39msum()\u001b[38;5;241m.\u001b[39mreset_index()\n\u001b[0;32m     10\u001b[0m \u001b[38;5;66;03m# For each gender, find the major with the highest total study hours\u001b[39;00m\n\u001b[0;32m     11\u001b[0m max_study_hours_major \u001b[38;5;241m=\u001b[39m student_performance_data\u001b[38;5;241m.\u001b[39mloc[study_hours_per_major\u001b[38;5;241m.\u001b[39mgroupby(\u001b[38;5;124m'\u001b[39m\u001b[38;5;124mGender\u001b[39m\u001b[38;5;124m'\u001b[39m)[\u001b[38;5;124m'\u001b[39m\u001b[38;5;124mStudyHoursPerWeek\u001b[39m\u001b[38;5;124m'\u001b[39m]\u001b[38;5;241m.\u001b[39midxmax()]\n",
      "\u001b[1;31mNameError\u001b[0m: name 'student_performance_data' is not defined"
     ]
    }
   ],
   "source": [
    "## (a)  I DID  THIS WITH THE KNOWLEDGE FROM STACK OVER FLOW\n",
    "\n",
    "# To find out which major has the highest total study hours per week for each gender, \n",
    "# we can group the data by gender and major, then sum the study hours for each group. \n",
    "# After that, we can identify the major with the highest study hours for each gender.\n",
    "\n",
    "# Grouping  by gender and major, then sum the study hours\n",
    "study_hours_per_major =student_performance_data.groupby(['Gender', 'Major'])['StudyHoursPerWeek '].sum().reset_index()\n",
    "\n",
    "# For each gender, find the major with the highest total study hours\n",
    "max_study_hours_major = student_performance_data.loc[study_hours_per_major.groupby('Gender')['StudyHoursPerWeek'].idxmax()]\n",
    "\n",
    "print(max_study_hours_major[['Gender', 'Major', 'StudyHoursPerWeek']])\n",
    "\n"
   ]
  },
  {
   "cell_type": "code",
   "execution_count": 67,
   "id": "b9519163-31d3-4f43-9c41-d7c25e84bf01",
   "metadata": {},
   "outputs": [
    {
     "ename": "NameError",
     "evalue": "name 'student_performance_data' is not defined",
     "output_type": "error",
     "traceback": [
      "\u001b[1;31m---------------------------------------------------------------------------\u001b[0m",
      "\u001b[1;31mNameError\u001b[0m                                 Traceback (most recent call last)",
      "Cell \u001b[1;32mIn[67], line 4\u001b[0m\n\u001b[0;32m      1\u001b[0m \u001b[38;5;66;03m## (b)\u001b[39;00m\n\u001b[0;32m      2\u001b[0m \u001b[38;5;66;03m# To determine which gender has the highest average attendance rate, we can group by gender and calculate the mean attendance rate for each gender.\u001b[39;00m\n\u001b[0;32m      3\u001b[0m \u001b[38;5;66;03m# Group by gender and calculate the mean attendance rate\u001b[39;00m\n\u001b[1;32m----> 4\u001b[0m avg_attendance \u001b[38;5;241m=\u001b[39m \u001b[43mstudent_performance_data\u001b[49m\u001b[38;5;241m.\u001b[39mgroupby(\u001b[38;5;124m'\u001b[39m\u001b[38;5;124mGender\u001b[39m\u001b[38;5;124m'\u001b[39m)[\u001b[38;5;124m'\u001b[39m\u001b[38;5;124mAttendanceRate\u001b[39m\u001b[38;5;124m'\u001b[39m]\u001b[38;5;241m.\u001b[39mmean()\u001b[38;5;241m.\u001b[39mreset_index()\n\u001b[0;32m      6\u001b[0m \u001b[38;5;66;03m# Find the gender with the highest average attendance rate\u001b[39;00m\n\u001b[0;32m      7\u001b[0m highest_attendance_gender \u001b[38;5;241m=\u001b[39m avg_attendance\u001b[38;5;241m.\u001b[39mloc[avg_attendance[\u001b[38;5;124m'\u001b[39m\u001b[38;5;124mAttendanceRate\u001b[39m\u001b[38;5;124m'\u001b[39m]\u001b[38;5;241m.\u001b[39midxmax()]\n",
      "\u001b[1;31mNameError\u001b[0m: name 'student_performance_data' is not defined"
     ]
    }
   ],
   "source": [
    "## (b)\n",
    "# To determine which gender has the highest average attendance rate, we can group by gender and calculate the mean attendance rate for each gender.\n",
    "# Group by gender and calculate the mean attendance rate\n",
    "avg_attendance = student_performance_data.groupby('Gender')['AttendanceRate'].mean().reset_index()\n",
    "\n",
    "# Find the gender with the highest average attendance rate\n",
    "highest_attendance_gender = avg_attendance.loc[avg_attendance['AttendanceRate'].idxmax()]\n",
    "\n",
    "print(highest_attendance_gender)\n"
   ]
  },
  {
   "cell_type": "code",
   "execution_count": 69,
   "id": "b72c0603-a3bd-41ff-96e3-37336beb3f4a",
   "metadata": {},
   "outputs": [
    {
     "ename": "NameError",
     "evalue": "name 'student_performance_data' is not defined",
     "output_type": "error",
     "traceback": [
      "\u001b[1;31m---------------------------------------------------------------------------\u001b[0m",
      "\u001b[1;31mNameError\u001b[0m                                 Traceback (most recent call last)",
      "Cell \u001b[1;32mIn[69], line 4\u001b[0m\n\u001b[0;32m      1\u001b[0m \u001b[38;5;66;03m## (d)\u001b[39;00m\n\u001b[0;32m      2\u001b[0m \u001b[38;5;66;03m#To calculate the mean GPA and variance of age for each gender, we can use the groupby function and apply the .mean() and .var() methods to the appropriate columns.\u001b[39;00m\n\u001b[0;32m      3\u001b[0m \u001b[38;5;66;03m# Group by gender and calculate the mean GPA and variance of age\u001b[39;00m\n\u001b[1;32m----> 4\u001b[0m gpa_and_age \u001b[38;5;241m=\u001b[39m \u001b[43mstudent_performance_data\u001b[49m\u001b[38;5;241m.\u001b[39mcsv\u001b[38;5;241m.\u001b[39mgroupby(\u001b[38;5;124m'\u001b[39m\u001b[38;5;124mGender\u001b[39m\u001b[38;5;124m'\u001b[39m)\u001b[38;5;241m.\u001b[39magg({\u001b[38;5;124m'\u001b[39m\u001b[38;5;124mGPA\u001b[39m\u001b[38;5;124m'\u001b[39m: \u001b[38;5;124m'\u001b[39m\u001b[38;5;124mmean\u001b[39m\u001b[38;5;124m'\u001b[39m, \u001b[38;5;124m'\u001b[39m\u001b[38;5;124mAge\u001b[39m\u001b[38;5;124m'\u001b[39m: \u001b[38;5;124m'\u001b[39m\u001b[38;5;124mvar\u001b[39m\u001b[38;5;124m'\u001b[39m})\u001b[38;5;241m.\u001b[39mreset_index()\n\u001b[0;32m      6\u001b[0m \u001b[38;5;28mprint\u001b[39m(gpa_and_age)\n",
      "\u001b[1;31mNameError\u001b[0m: name 'student_performance_data' is not defined"
     ]
    }
   ],
   "source": [
    "## (d)\n",
    "#To calculate the mean GPA and variance of age for each gender, we can use the groupby function and apply the .mean() and .var() methods to the appropriate columns.\n",
    "# Group by gender and calculate the mean GPA and variance of age\n",
    "gpa_and_age = student_performance_data.csv.groupby('Gender').agg({'GPA': 'mean', 'Age': 'var'}).reset_index()\n",
    "\n",
    "print(gpa_and_age)\n"
   ]
  },
  {
   "cell_type": "code",
   "execution_count": 77,
   "id": "22ba339c-843b-4be0-9b8a-a92520f9aba3",
   "metadata": {},
   "outputs": [
    {
     "data": {
      "image/png": "[encoded data removed]",
      "text/plain": [
       "<Figure size 640x480 with 1 Axes>"
      ]
     },
     "metadata": {},
     "output_type": "display_data"
    }
   ],
   "source": [
    "## (e)\n",
    "# Plot a scatter plot to visualize the relationship between GPA and study hours\n",
    "sns.scatterplot(x='StudyHoursPerWeek', y='GPA', data=data)\n",
    "plt.title('Relationship between Study Hours per week and GPA')\n",
    "plt.xlabel('Study Hours per Week')\n",
    "plt.ylabel('GPA')\n",
    "plt.show()\n"
   ]
  },
  {
   "cell_type": "code",
   "execution_count": 59,
   "id": "8df5e8e4-ee49-4eee-8311-6dc3debde43e",
   "metadata": {},
   "outputs": [
    {
     "name": "stdout",
     "output_type": "stream",
     "text": [
      "Requirement already satisfied: matplotlib in c:\\users\\admin\\desktop\\data sci exam\\myenv\\lib\\site-packages (3.9.3)Note: you may need to restart the kernel to use updated packages.\n"
     ]
    },
    {
     "name": "stderr",
     "output_type": "stream",
     "text": [
      "\n",
      "[notice] A new release of pip is available: 24.2 -> 24.3.1\n",
      "[notice] To update, run: python.exe -m pip install --upgrade pip\n"
     ]
    },
    {
     "name": "stdout",
     "output_type": "stream",
     "text": [
      "\n",
      "Requirement already satisfied: contourpy>=1.0.1 in c:\\users\\admin\\desktop\\data sci exam\\myenv\\lib\\site-packages (from matplotlib) (1.3.1)\n",
      "Requirement already satisfied: cycler>=0.10 in c:\\users\\admin\\desktop\\data sci exam\\myenv\\lib\\site-packages (from matplotlib) (0.12.1)\n",
      "Requirement already satisfied: fonttools>=4.22.0 in c:\\users\\admin\\desktop\\data sci exam\\myenv\\lib\\site-packages (from matplotlib) (4.55.3)\n",
      "Requirement already satisfied: kiwisolver>=1.3.1 in c:\\users\\admin\\desktop\\data sci exam\\myenv\\lib\\site-packages (from matplotlib) (1.4.7)\n",
      "Requirement already satisfied: numpy>=1.23 in c:\\users\\admin\\desktop\\data sci exam\\myenv\\lib\\site-packages (from matplotlib) (2.2.0)\n",
      "Requirement already satisfied: packaging>=20.0 in c:\\users\\admin\\desktop\\data sci exam\\myenv\\lib\\site-packages (from matplotlib) (24.2)\n",
      "Requirement already satisfied: pillow>=8 in c:\\users\\admin\\desktop\\data sci exam\\myenv\\lib\\site-packages (from matplotlib) (11.0.0)\n",
      "Requirement already satisfied: pyparsing>=2.3.1 in c:\\users\\admin\\desktop\\data sci exam\\myenv\\lib\\site-packages (from matplotlib) (3.2.0)\n",
      "Requirement already satisfied: python-dateutil>=2.7 in c:\\users\\admin\\desktop\\data sci exam\\myenv\\lib\\site-packages (from matplotlib) (2.9.0.post0)\n",
      "Requirement already satisfied: six>=1.5 in c:\\users\\admin\\desktop\\data sci exam\\myenv\\lib\\site-packages (from python-dateutil>=2.7->matplotlib) (1.17.0)\n"
     ]
    }
   ],
   "source": [
    "pip install matplotlib"
   ]
  },
  {
   "cell_type": "code",
   "execution_count": null,
   "id": "41ea6fd9-bc76-4c99-9e7e-7c3574608ecb",
   "metadata": {},
   "outputs": [],
   "source": []
  },
  {
   "cell_type": "markdown",
   "id": "e86e012f-3229-41cf-bdda-9a5085da68a1",
   "metadata": {},
   "source": [
    "## QUESTION 3 (LINEAR REGRESSION)¶"
   ]
  },
  {
   "cell_type": "code",
   "execution_count": 4,
   "id": "508753da-df6d-4107-a113-33f0218d9b3f",
   "metadata": {},
   "outputs": [
    {
     "name": "stdout",
     "output_type": "stream",
     "text": [
      "Collecting scikit-learnNote: you may need to restart the kernel to use updated packages.\n",
      "\n",
      "  Using cached scikit_learn-1.6.0-cp312-cp312-win_amd64.whl.metadata (15 kB)\n",
      "Requirement already satisfied: numpy>=1.19.5 in c:\\users\\admin\\desktop\\data sci exam\\myenv\\lib\\site-packages (from scikit-learn) (2.2.0)\n",
      "Collecting scipy>=1.6.0 (from scikit-learn)\n",
      "  Using cached scipy-1.14.1-cp312-cp312-win_amd64.whl.metadata (60 kB)\n",
      "Collecting joblib>=1.2.0 (from scikit-learn)\n",
      "  Using cached joblib-1.4.2-py3-none-any.whl.metadata (5.4 kB)\n",
      "Collecting threadpoolctl>=3.1.0 (from scikit-learn)\n",
      "  Using cached threadpoolctl-3.5.0-py3-none-any.whl.metadata (13 kB)\n",
      "Using cached scikit_learn-1.6.0-cp312-cp312-win_amd64.whl (11.1 MB)\n",
      "Using cached joblib-1.4.2-py3-none-any.whl (301 kB)\n",
      "Using cached scipy-1.14.1-cp312-cp312-win_amd64.whl (44.5 MB)\n",
      "Using cached threadpoolctl-3.5.0-py3-none-any.whl (18 kB)\n",
      "Installing collected packages: threadpoolctl, scipy, joblib, scikit-learn\n",
      "Successfully installed joblib-1.4.2 scikit-learn-1.6.0 scipy-1.14.1 threadpoolctl-3.5.0\n"
     ]
    },
    {
     "name": "stderr",
     "output_type": "stream",
     "text": [
      "\n",
      "[notice] A new release of pip is available: 24.2 -> 24.3.1\n",
      "[notice] To update, run: python.exe -m pip install --upgrade pip\n"
     ]
    }
   ],
   "source": [
    "pip install scikit-learn\n"
   ]
  },
  {
   "cell_type": "code",
   "execution_count": 29,
   "id": "e221971f-248e-4e21-ae1a-5fa0173c06dd",
   "metadata": {},
   "outputs": [],
   "source": [
    "from sklearn.linear_model import LinearRegression\n",
    "from sklearn.model_selection import train_test_split\n",
    "from sklearn.metrics import mean_squared_error"
   ]
  },
  {
   "cell_type": "code",
   "execution_count": null,
   "id": "de9d98b0-18f7-4ae6-8aad-538c07c12f47",
   "metadata": {},
   "outputs": [],
   "source": [
    "## 3(a)  I SEARCHED THIS FROM  GOOGLE CHROME\n",
    "\n",
    "# Preparing the dataset, which includes the input features (independent variables, X) and the( dependent variable, y).\n",
    "# The data has to be in the correct format (usually as a NumPy array or Pandas DataFrame).\n",
    "\n",
    "# EXAMPLE VALUES\n",
    "X = np.array([[1], [2], [3], [4], [5]])  \n",
    "y = np.array([1, 2, 3, 4, 5])\n",
    "\n",
    "# Splitting the dataset into training and testing sets . This can be done using train_test_split from scikit-learn.\n",
    "X_train, X_test, y_train, y_test = train_test_split(X, y, test_size=0.2, random_state=42)\n",
    "\n",
    "# Instantiating a linear regression model using LinearRegression().\n",
    "model.fit(X_train, y_train)\n",
    "\n",
    "# Evaluating the model by calculating performance metrics such as Mean Squared Error (MSE), R-squared,  using sklearn.metrics.\n",
    "mse = mean_squared_error(y_test, y_pred)\n",
    "print(\"Mean Squared Error:\", mse)"
   ]
  },
  {
   "cell_type": "code",
   "execution_count": null,
   "id": "7f83e97f-0bf0-411f-9451-bb91b6e3c30d",
   "metadata": {},
   "outputs": [],
   "source": [
    "## 3(b)\n",
    "# 1. Linearity:\n",
    "#  There should be a linear relationship between the independent variables (features) and the dependent variable (target).\n",
    "\n",
    "# 2. Independence of Errors :\n",
    "#  The errors should be independent of each other.\n",
    "\n",
    "# 3. Homoscedasticity:\n",
    "# The variance of the errors is constant across all levels of the independent variables.\n",
    "\n",
    "# 4. Normality of Errors:\n",
    "#The errors  are normally distributed.\n",
    "\n",
    "# 5. No Multicollinearity:\n",
    "# There should be little or no correlation among the independent variables."
   ]
  },
  {
   "cell_type": "code",
   "execution_count": 22,
   "id": "ac0541df-f63b-4df1-be5e-f7a6d68d12d9",
   "metadata": {},
   "outputs": [],
   "source": [
    "import matplotlib.pyplot as plt"
   ]
  },
  {
   "cell_type": "code",
   "execution_count": 26,
   "id": "8a01f3d3-ec89-4319-9ffa-16fff99ae56e",
   "metadata": {},
   "outputs": [],
   "source": [
    "import openpyxl\n"
   ]
  },
  {
   "cell_type": "code",
   "execution_count": 28,
   "id": "8e756ea5-3b3c-4b91-937b-2dc782592056",
   "metadata": {},
   "outputs": [
    {
     "data": {
      "text/html": [
       "<div>\n",
       "<style scoped>\n",
       "    .dataframe tbody tr th:only-of-type {\n",
       "        vertical-align: middle;\n",
       "    }\n",
       "\n",
       "    .dataframe tbody tr th {\n",
       "        vertical-align: top;\n",
       "    }\n",
       "\n",
       "    .dataframe thead th {\n",
       "        text-align: right;\n",
       "    }\n",
       "</style>\n",
       "<table border=\"1\" class=\"dataframe\">\n",
       "  <thead>\n",
       "    <tr style=\"text-align: right;\">\n",
       "      <th></th>\n",
       "      <th>Age</th>\n",
       "      <th>Sex</th>\n",
       "      <th>Marital_status</th>\n",
       "      <th>Number_of_children</th>\n",
       "      <th>Family_size</th>\n",
       "      <th>Education-degree_recode</th>\n",
       "      <th>Education-degree_recode 2</th>\n",
       "      <th>Education</th>\n",
       "      <th>Race_ethnicity-multi_recode</th>\n",
       "      <th>Immigrate-year</th>\n",
       "      <th>Birthplace_recode</th>\n",
       "      <th>Speaks_English</th>\n",
       "      <th>Employment_status</th>\n",
       "      <th>Income-wages</th>\n",
       "      <th>Region_recode</th>\n",
       "      <th>Region-division_recode</th>\n",
       "      <th>Moved</th>\n",
       "      <th>Year</th>\n",
       "      <th>state</th>\n",
       "    </tr>\n",
       "  </thead>\n",
       "  <tbody>\n",
       "    <tr>\n",
       "      <th>0</th>\n",
       "      <td>30</td>\n",
       "      <td>Male</td>\n",
       "      <td>Married, spouse present</td>\n",
       "      <td>2</td>\n",
       "      <td>4</td>\n",
       "      <td>Masterâ€™s or professional degree</td>\n",
       "      <td>Master or professional degree</td>\n",
       "      <td>Master or PhD or professional degree</td>\n",
       "      <td>Non-Hispanic White</td>\n",
       "      <td>0</td>\n",
       "      <td>U.S. state, territory, or outlying region</td>\n",
       "      <td>Yes, speaks only English</td>\n",
       "      <td>Employed</td>\n",
       "      <td>63000</td>\n",
       "      <td>South</td>\n",
       "      <td>East South Central</td>\n",
       "      <td>Same house</td>\n",
       "      <td>2020</td>\n",
       "      <td>Tennessee</td>\n",
       "    </tr>\n",
       "    <tr>\n",
       "      <th>1</th>\n",
       "      <td>28</td>\n",
       "      <td>Female</td>\n",
       "      <td>Married, spouse present</td>\n",
       "      <td>1 child present</td>\n",
       "      <td>3</td>\n",
       "      <td>Masterâ€™s or professional degree</td>\n",
       "      <td>Master or professional degree</td>\n",
       "      <td>Master or PhD or professional degree</td>\n",
       "      <td>Non-Hispanic White</td>\n",
       "      <td>0</td>\n",
       "      <td>U.S. state, territory, or outlying region</td>\n",
       "      <td>Yes, speaks only English</td>\n",
       "      <td>Employed</td>\n",
       "      <td>46000</td>\n",
       "      <td>South</td>\n",
       "      <td>East South Central</td>\n",
       "      <td>Same house</td>\n",
       "      <td>2020</td>\n",
       "      <td>Tennessee</td>\n",
       "    </tr>\n",
       "    <tr>\n",
       "      <th>2</th>\n",
       "      <td>34</td>\n",
       "      <td>Male</td>\n",
       "      <td>Married, spouse present</td>\n",
       "      <td>1 child present</td>\n",
       "      <td>3</td>\n",
       "      <td>Bachelorâ€™s degree</td>\n",
       "      <td>Bachelor degree</td>\n",
       "      <td>Associate or Bachelor degree</td>\n",
       "      <td>Non-Hispanic White</td>\n",
       "      <td>0</td>\n",
       "      <td>U.S. state, territory, or outlying region</td>\n",
       "      <td>Yes, speaks only English</td>\n",
       "      <td>Employed</td>\n",
       "      <td>45000</td>\n",
       "      <td>South</td>\n",
       "      <td>East South Central</td>\n",
       "      <td>Same house</td>\n",
       "      <td>2020</td>\n",
       "      <td>Tennessee</td>\n",
       "    </tr>\n",
       "    <tr>\n",
       "      <th>3</th>\n",
       "      <td>58</td>\n",
       "      <td>Female</td>\n",
       "      <td>Married, spouse absent</td>\n",
       "      <td>1 child present</td>\n",
       "      <td>2</td>\n",
       "      <td>1 or more years of college, no degree</td>\n",
       "      <td>1 or more years of college, no degree</td>\n",
       "      <td>1 or more years of college, no degree</td>\n",
       "      <td>Non-Hispanic White</td>\n",
       "      <td>0</td>\n",
       "      <td>U.S. state, territory, or outlying region</td>\n",
       "      <td>Yes, speaks only English</td>\n",
       "      <td>Employed</td>\n",
       "      <td>55000</td>\n",
       "      <td>South</td>\n",
       "      <td>East South Central</td>\n",
       "      <td>Same house</td>\n",
       "      <td>2020</td>\n",
       "      <td>Tennessee</td>\n",
       "    </tr>\n",
       "    <tr>\n",
       "      <th>4</th>\n",
       "      <td>39</td>\n",
       "      <td>Male</td>\n",
       "      <td>Never married/single</td>\n",
       "      <td>0 children present</td>\n",
       "      <td>1</td>\n",
       "      <td>Bachelorâ€™s degree</td>\n",
       "      <td>Bachelor degree</td>\n",
       "      <td>Associate or Bachelor degree</td>\n",
       "      <td>Non-Hispanic White</td>\n",
       "      <td>0</td>\n",
       "      <td>U.S. state, territory, or outlying region</td>\n",
       "      <td>Yes, speaks only English</td>\n",
       "      <td>Employed</td>\n",
       "      <td>12000</td>\n",
       "      <td>South</td>\n",
       "      <td>East South Central</td>\n",
       "      <td>Same house</td>\n",
       "      <td>2020</td>\n",
       "      <td>Tennessee</td>\n",
       "    </tr>\n",
       "    <tr>\n",
       "      <th>...</th>\n",
       "      <td>...</td>\n",
       "      <td>...</td>\n",
       "      <td>...</td>\n",
       "      <td>...</td>\n",
       "      <td>...</td>\n",
       "      <td>...</td>\n",
       "      <td>...</td>\n",
       "      <td>...</td>\n",
       "      <td>...</td>\n",
       "      <td>...</td>\n",
       "      <td>...</td>\n",
       "      <td>...</td>\n",
       "      <td>...</td>\n",
       "      <td>...</td>\n",
       "      <td>...</td>\n",
       "      <td>...</td>\n",
       "      <td>...</td>\n",
       "      <td>...</td>\n",
       "      <td>...</td>\n",
       "    </tr>\n",
       "    <tr>\n",
       "      <th>4360</th>\n",
       "      <td>67</td>\n",
       "      <td>Male</td>\n",
       "      <td>Married, spouse present</td>\n",
       "      <td>0 children present</td>\n",
       "      <td>2</td>\n",
       "      <td>Bachelorâ€™s degree</td>\n",
       "      <td>Bachelor degree</td>\n",
       "      <td>Associate or Bachelor degree</td>\n",
       "      <td>Non-Hispanic White</td>\n",
       "      <td>0</td>\n",
       "      <td>U.S. state, territory, or outlying region</td>\n",
       "      <td>Yes, speaks only English</td>\n",
       "      <td>Employed</td>\n",
       "      <td>40000</td>\n",
       "      <td>Midwest</td>\n",
       "      <td>West North Central</td>\n",
       "      <td>Same house</td>\n",
       "      <td>2020</td>\n",
       "      <td>North Dakota</td>\n",
       "    </tr>\n",
       "    <tr>\n",
       "      <th>4361</th>\n",
       "      <td>48</td>\n",
       "      <td>Male</td>\n",
       "      <td>Married, spouse present</td>\n",
       "      <td>4</td>\n",
       "      <td>6</td>\n",
       "      <td>Associateâ€™s degree</td>\n",
       "      <td>Associate degree</td>\n",
       "      <td>Associate or Bachelor degree</td>\n",
       "      <td>Non-Hispanic White</td>\n",
       "      <td>0</td>\n",
       "      <td>U.S. state, territory, or outlying region</td>\n",
       "      <td>Yes, speaks only English</td>\n",
       "      <td>Employed</td>\n",
       "      <td>65000</td>\n",
       "      <td>Midwest</td>\n",
       "      <td>West North Central</td>\n",
       "      <td>Same house</td>\n",
       "      <td>2020</td>\n",
       "      <td>North Dakota</td>\n",
       "    </tr>\n",
       "    <tr>\n",
       "      <th>4362</th>\n",
       "      <td>33</td>\n",
       "      <td>Male</td>\n",
       "      <td>Married, spouse absent</td>\n",
       "      <td>0 children present</td>\n",
       "      <td>1</td>\n",
       "      <td>Associateâ€™s degree</td>\n",
       "      <td>Associate degree</td>\n",
       "      <td>Associate or Bachelor degree</td>\n",
       "      <td>Non-Hispanic Black</td>\n",
       "      <td>2017</td>\n",
       "      <td>Africa</td>\n",
       "      <td>Yes, speaks very well</td>\n",
       "      <td>Employed</td>\n",
       "      <td>45000</td>\n",
       "      <td>Midwest</td>\n",
       "      <td>West North Central</td>\n",
       "      <td>Same house</td>\n",
       "      <td>2020</td>\n",
       "      <td>North Dakota</td>\n",
       "    </tr>\n",
       "    <tr>\n",
       "      <th>4363</th>\n",
       "      <td>22</td>\n",
       "      <td>Female</td>\n",
       "      <td>Never married/single</td>\n",
       "      <td>0 children present</td>\n",
       "      <td>2</td>\n",
       "      <td>1 or more years of college, no degree</td>\n",
       "      <td>1 or more years of college, no degree</td>\n",
       "      <td>1 or more years of college, no degree</td>\n",
       "      <td>Non-Hispanic White</td>\n",
       "      <td>0</td>\n",
       "      <td>U.S. state, territory, or outlying region</td>\n",
       "      <td>Yes, speaks only English</td>\n",
       "      <td>Employed</td>\n",
       "      <td>500</td>\n",
       "      <td>Midwest</td>\n",
       "      <td>West North Central</td>\n",
       "      <td>Same house</td>\n",
       "      <td>2020</td>\n",
       "      <td>North Dakota</td>\n",
       "    </tr>\n",
       "    <tr>\n",
       "      <th>4364</th>\n",
       "      <td>49</td>\n",
       "      <td>Female</td>\n",
       "      <td>Married, spouse present</td>\n",
       "      <td>2</td>\n",
       "      <td>4</td>\n",
       "      <td>Masterâ€™s or professional degree</td>\n",
       "      <td>Master or professional degree</td>\n",
       "      <td>Master or PhD or professional degree</td>\n",
       "      <td>Non-Hispanic White</td>\n",
       "      <td>0</td>\n",
       "      <td>U.S. state, territory, or outlying region</td>\n",
       "      <td>Yes, speaks only English</td>\n",
       "      <td>Employed</td>\n",
       "      <td>498000</td>\n",
       "      <td>Midwest</td>\n",
       "      <td>West North Central</td>\n",
       "      <td>Same house</td>\n",
       "      <td>2020</td>\n",
       "      <td>North Dakota</td>\n",
       "    </tr>\n",
       "  </tbody>\n",
       "</table>\n",
       "<p>4365 rows × 19 columns</p>\n",
       "</div>"
      ],
      "text/plain": [
       "      Age     Sex           Marital_status  Number_of_children  Family_size  \\\n",
       "0      30    Male  Married, spouse present                   2            4   \n",
       "1      28  Female  Married, spouse present     1 child present            3   \n",
       "2      34    Male  Married, spouse present     1 child present            3   \n",
       "3      58  Female   Married, spouse absent     1 child present            2   \n",
       "4      39    Male     Never married/single  0 children present            1   \n",
       "...   ...     ...                      ...                 ...          ...   \n",
       "4360   67    Male  Married, spouse present  0 children present            2   \n",
       "4361   48    Male  Married, spouse present                   4            6   \n",
       "4362   33    Male   Married, spouse absent  0 children present            1   \n",
       "4363   22  Female     Never married/single  0 children present            2   \n",
       "4364   49  Female  Married, spouse present                   2            4   \n",
       "\n",
       "                    Education-degree_recode  \\\n",
       "0         Masterâ€™s or professional degree   \n",
       "1         Masterâ€™s or professional degree   \n",
       "2                       Bachelorâ€™s degree   \n",
       "3     1 or more years of college, no degree   \n",
       "4                       Bachelorâ€™s degree   \n",
       "...                                     ...   \n",
       "4360                    Bachelorâ€™s degree   \n",
       "4361                   Associateâ€™s degree   \n",
       "4362                   Associateâ€™s degree   \n",
       "4363  1 or more years of college, no degree   \n",
       "4364      Masterâ€™s or professional degree   \n",
       "\n",
       "                  Education-degree_recode 2  \\\n",
       "0             Master or professional degree   \n",
       "1             Master or professional degree   \n",
       "2                           Bachelor degree   \n",
       "3     1 or more years of college, no degree   \n",
       "4                           Bachelor degree   \n",
       "...                                     ...   \n",
       "4360                        Bachelor degree   \n",
       "4361                       Associate degree   \n",
       "4362                       Associate degree   \n",
       "4363  1 or more years of college, no degree   \n",
       "4364          Master or professional degree   \n",
       "\n",
       "                                  Education Race_ethnicity-multi_recode  \\\n",
       "0      Master or PhD or professional degree          Non-Hispanic White   \n",
       "1      Master or PhD or professional degree          Non-Hispanic White   \n",
       "2              Associate or Bachelor degree          Non-Hispanic White   \n",
       "3     1 or more years of college, no degree          Non-Hispanic White   \n",
       "4              Associate or Bachelor degree          Non-Hispanic White   \n",
       "...                                     ...                         ...   \n",
       "4360           Associate or Bachelor degree          Non-Hispanic White   \n",
       "4361           Associate or Bachelor degree          Non-Hispanic White   \n",
       "4362           Associate or Bachelor degree          Non-Hispanic Black   \n",
       "4363  1 or more years of college, no degree          Non-Hispanic White   \n",
       "4364   Master or PhD or professional degree          Non-Hispanic White   \n",
       "\n",
       "      Immigrate-year                          Birthplace_recode  \\\n",
       "0                  0  U.S. state, territory, or outlying region   \n",
       "1                  0  U.S. state, territory, or outlying region   \n",
       "2                  0  U.S. state, territory, or outlying region   \n",
       "3                  0  U.S. state, territory, or outlying region   \n",
       "4                  0  U.S. state, territory, or outlying region   \n",
       "...              ...                                        ...   \n",
       "4360               0  U.S. state, territory, or outlying region   \n",
       "4361               0  U.S. state, territory, or outlying region   \n",
       "4362            2017                                     Africa   \n",
       "4363               0  U.S. state, territory, or outlying region   \n",
       "4364               0  U.S. state, territory, or outlying region   \n",
       "\n",
       "                Speaks_English Employment_status  Income-wages Region_recode  \\\n",
       "0     Yes, speaks only English          Employed         63000         South   \n",
       "1     Yes, speaks only English          Employed         46000         South   \n",
       "2     Yes, speaks only English          Employed         45000         South   \n",
       "3     Yes, speaks only English          Employed         55000         South   \n",
       "4     Yes, speaks only English          Employed         12000         South   \n",
       "...                        ...               ...           ...           ...   \n",
       "4360  Yes, speaks only English          Employed         40000       Midwest   \n",
       "4361  Yes, speaks only English          Employed         65000       Midwest   \n",
       "4362     Yes, speaks very well          Employed         45000       Midwest   \n",
       "4363  Yes, speaks only English          Employed           500       Midwest   \n",
       "4364  Yes, speaks only English          Employed        498000       Midwest   \n",
       "\n",
       "     Region-division_recode       Moved  Year         state  \n",
       "0        East South Central  Same house  2020     Tennessee  \n",
       "1        East South Central  Same house  2020     Tennessee  \n",
       "2        East South Central  Same house  2020     Tennessee  \n",
       "3        East South Central  Same house  2020     Tennessee  \n",
       "4        East South Central  Same house  2020     Tennessee  \n",
       "...                     ...         ...   ...           ...  \n",
       "4360     West North Central  Same house  2020  North Dakota  \n",
       "4361     West North Central  Same house  2020  North Dakota  \n",
       "4362     West North Central  Same house  2020  North Dakota  \n",
       "4363     West North Central  Same house  2020  North Dakota  \n",
       "4364     West North Central  Same house  2020  North Dakota  \n",
       "\n",
       "[4365 rows x 19 columns]"
      ]
     },
     "execution_count": 28,
     "metadata": {},
     "output_type": "execute_result"
    }
   ],
   "source": [
    "## 3(c)\n",
    "# Loading the 2020 US Census data (Assumed to be a CSV file)\n",
    "df = pd.read_excel(r'C:\\Users\\Admin\\Wages 2020Census cleaned.xlsx')\n",
    "df"
   ]
  },
  {
   "cell_type": "code",
   "execution_count": 46,
   "id": "0d054eea-98d0-401b-a621-b9d941296d0d",
   "metadata": {},
   "outputs": [
    {
     "name": "stdout",
     "output_type": "stream",
     "text": [
      "Linear Regression Equation: y = 3.83 + -0.02x\n"
     ]
    }
   ],
   "source": [
    "# Assuming the columns 'Family_size' as feature and 'income' as target\n",
    "X = df[['Age']]  \n",
    "y = df['Family_size']  \n",
    "\n",
    "# Spliting the data into training and test sets\n",
    "X_train, X_test, y_train, y_test = train_test_split(X, y, test_size=0.2, random_state=42)\n",
    "\n",
    "# Creating and fitting the linear regression model\n",
    "model = LinearRegression()\n",
    "model.fit(X_train, y_train)\n",
    "\n",
    "# Geting the model coefficients (β0 and β1)\n",
    "intercept = model.intercept_  # β0\n",
    "slope = model.coef_[0]  # β1\n",
    "\n",
    "# Generating the linear equation\n",
    "print(f\"Linear Regression Equation: y = {intercept:.2f} + {slope:.2f}x\")\n"
   ]
  },
  {
   "cell_type": "code",
   "execution_count": 51,
   "id": "a021ccad-927d-4684-83a1-1b0a47414cec",
   "metadata": {},
   "outputs": [
    {
     "name": "stdout",
     "output_type": "stream",
     "text": [
      "Mean Absolute Error (MAE): 1.24\n"
     ]
    }
   ],
   "source": [
    "## 3 (d)\n",
    "X = df[['Age']]  # Independent variable \n",
    "y = df['Family_size']  # Dependent variable \n",
    "from sklearn.metrics import mean_absolute_error\n",
    "# Calculating the Mean Absolute Error\n",
    "mae = mean_absolute_error(y_test, y_pred)\n",
    "print(f\"Mean Absolute Error (MAE): {mae:.2f}\")\n"
   ]
  },
  {
   "cell_type": "code",
   "execution_count": 40,
   "id": "7c1fe264-efd2-4310-af14-609098019ccf",
   "metadata": {},
   "outputs": [
    {
     "name": "stdout",
     "output_type": "stream",
     "text": [
      "Intercept: 3.8310316304297145\n",
      "Slopes: [-0.02002242]\n"
     ]
    }
   ],
   "source": [
    "## 3 (e)\n",
    "intercept = model.intercept_\n",
    "slopes = model.coef_\n",
    "print(f\"Intercept: {intercept}\")\n",
    "print(f\"Slopes: {slopes}\")\n"
   ]
  },
  {
   "cell_type": "code",
   "execution_count": null,
   "id": "88490690-8d27-413a-9160-f2c28165defd",
   "metadata": {},
   "outputs": [],
   "source": [
    "## EXTRACTING R_SQUARED\n",
    "#  This is the proportion of variation in the target variable explained by the model."
   ]
  },
  {
   "cell_type": "code",
   "execution_count": 42,
   "id": "c023048a-ed74-4761-8131-6668b0affd77",
   "metadata": {},
   "outputs": [
    {
     "name": "stdout",
     "output_type": "stream",
     "text": [
      "R-squared: 0.00890785992399068\n"
     ]
    }
   ],
   "source": [
    "X = df[['Age']]  # Independent variable (Feature)\n",
    "y = df['Family_size']  # Dependent variable (Target)\n",
    "\n",
    "r_squared = model.score(X_test, y_test)\n",
    "print(f\"R-squared: {r_squared}\")\n"
   ]
  },
  {
   "cell_type": "code",
   "execution_count": 43,
   "id": "bfeee737-e9ab-4de2-884c-fac5e9a2ea89",
   "metadata": {},
   "outputs": [
    {
     "name": "stdout",
     "output_type": "stream",
     "text": [
      "Mean Squared Error: 2.35256372612981\n"
     ]
    }
   ],
   "source": [
    "# Mean squared error (MSE): This is helps us to know how far off the predicted values are from the actual values .\n",
    "\n",
    "mse = mean_squared_error(y_test, y_pred)\n",
    "print(f\"Mean Squared Error: {mse}\")\n"
   ]
  },
  {
   "cell_type": "code",
   "execution_count": 44,
   "id": "5db54935-3673-4468-96c9-59e4c8bb52fc",
   "metadata": {},
   "outputs": [
    {
     "name": "stdout",
     "output_type": "stream",
     "text": [
      "Mean Absolute Error: 1.2362431932728386\n"
     ]
    }
   ],
   "source": [
    "MAE: The average absolute difference between the predicted and actual values .\n",
    "mae = mean_absolute_error(y_test, y_pred)\n",
    "print(f\"Mean Absolute Error: {mae}\")\n"
   ]
  },
  {
   "cell_type": "code",
   "execution_count": 48,
   "id": "c9603e65-f2e1-4af4-81a7-d4c306570c92",
   "metadata": {},
   "outputs": [
    {
     "name": "stdout",
     "output_type": "stream",
     "text": [
      "Collecting statsmodels\n",
      "  Downloading statsmodels-0.14.4-cp312-cp312-win_amd64.whl.metadata (9.5 kB)\n",
      "Requirement already satisfied: numpy<3,>=1.22.3 in c:\\users\\admin\\desktop\\data sci exam\\myenv\\lib\\site-packages (from statsmodels) (2.2.0)\n",
      "Requirement already satisfied: scipy!=1.9.2,>=1.8 in c:\\users\\admin\\desktop\\data sci exam\\myenv\\lib\\site-packages (from statsmodels) (1.14.1)\n",
      "Requirement already satisfied: pandas!=2.1.0,>=1.4 in c:\\users\\admin\\desktop\\data sci exam\\myenv\\lib\\site-packages (from statsmodels) (2.2.3)\n",
      "Collecting patsy>=0.5.6 (from statsmodels)\n",
      "  Downloading patsy-1.0.1-py2.py3-none-any.whl.metadata (3.3 kB)\n",
      "Requirement already satisfied: packaging>=21.3 in c:\\users\\admin\\desktop\\data sci exam\\myenv\\lib\\site-packages (from statsmodels) (24.2)\n",
      "Requirement already satisfied: python-dateutil>=2.8.2 in c:\\users\\admin\\desktop\\data sci exam\\myenv\\lib\\site-packages (from pandas!=2.1.0,>=1.4->statsmodels) (2.9.0.post0)\n",
      "Requirement already satisfied: pytz>=2020.1 in c:\\users\\admin\\desktop\\data sci exam\\myenv\\lib\\site-packages (from pandas!=2.1.0,>=1.4->statsmodels) (2024.2)\n",
      "Requirement already satisfied: tzdata>=2022.7 in c:\\users\\admin\\desktop\\data sci exam\\myenv\\lib\\site-packages (from pandas!=2.1.0,>=1.4->statsmodels) (2024.2)\n",
      "Requirement already satisfied: six>=1.5 in c:\\users\\admin\\desktop\\data sci exam\\myenv\\lib\\site-packages (from python-dateutil>=2.8.2->pandas!=2.1.0,>=1.4->statsmodels) (1.17.0)\n",
      "Downloading statsmodels-0.14.4-cp312-cp312-win_amd64.whl (9.8 MB)\n",
      "   ---------------------------------------- 0.0/9.8 MB ? eta -:--:--\n",
      "   ---------------------------------------- 0.0/9.8 MB ? eta -:--:--\n",
      "   ---------------------------------------- 0.0/9.8 MB ? eta -:--:--\n",
      "   ---------------------------------------- 0.0/9.8 MB ? eta -:--:--\n",
      "   ---------------------------------------- 0.0/9.8 MB ? eta -:--:--\n",
      "   - -------------------------------------- 0.3/9.8 MB ? eta -:--:--\n",
      "   - -------------------------------------- 0.3/9.8 MB ? eta -:--:--\n",
      "   - -------------------------------------- 0.3/9.8 MB ? eta -:--:--\n",
      "   -- ------------------------------------- 0.5/9.8 MB 364.6 kB/s eta 0:00:26\n",
      "   -- ------------------------------------- 0.5/9.8 MB 364.6 kB/s eta 0:00:26\n",
      "   --- ------------------------------------ 0.8/9.8 MB 447.3 kB/s eta 0:00:21\n",
      "   --- ------------------------------------ 0.8/9.8 MB 447.3 kB/s eta 0:00:21\n",
      "   ---- ----------------------------------- 1.0/9.8 MB 498.4 kB/s eta 0:00:18\n",
      "   ---- ----------------------------------- 1.0/9.8 MB 498.4 kB/s eta 0:00:18\n",
      "   ----- ---------------------------------- 1.3/9.8 MB 541.1 kB/s eta 0:00:16\n",
      "   ----- ---------------------------------- 1.3/9.8 MB 541.1 kB/s eta 0:00:16\n",
      "   ------ --------------------------------- 1.6/9.8 MB 570.6 kB/s eta 0:00:15\n",
      "   ------- -------------------------------- 1.8/9.8 MB 602.6 kB/s eta 0:00:14\n",
      "   ------- -------------------------------- 1.8/9.8 MB 602.6 kB/s eta 0:00:14\n",
      "   -------- ------------------------------- 2.1/9.8 MB 628.0 kB/s eta 0:00:13\n",
      "   --------- ------------------------------ 2.4/9.8 MB 657.8 kB/s eta 0:00:12\n",
      "   ---------- ----------------------------- 2.6/9.8 MB 683.3 kB/s eta 0:00:11\n",
      "   ---------- ----------------------------- 2.6/9.8 MB 683.3 kB/s eta 0:00:11\n",
      "   ----------- ---------------------------- 2.9/9.8 MB 707.9 kB/s eta 0:00:10\n",
      "   ------------ --------------------------- 3.1/9.8 MB 729.5 kB/s eta 0:00:10\n",
      "   ------------- -------------------------- 3.4/9.8 MB 754.0 kB/s eta 0:00:09\n",
      "   -------------- ------------------------- 3.7/9.8 MB 770.7 kB/s eta 0:00:08\n",
      "   -------------- ------------------------- 3.7/9.8 MB 770.7 kB/s eta 0:00:08\n",
      "   ---------------- ----------------------- 3.9/9.8 MB 772.6 kB/s eta 0:00:08\n",
      "   ---------------- ----------------------- 3.9/9.8 MB 772.6 kB/s eta 0:00:08\n",
      "   ----------------- ---------------------- 4.2/9.8 MB 744.4 kB/s eta 0:00:08\n",
      "   ----------------- ---------------------- 4.2/9.8 MB 744.4 kB/s eta 0:00:08\n",
      "   ----------------- ---------------------- 4.2/9.8 MB 744.4 kB/s eta 0:00:08\n",
      "   ------------------ --------------------- 4.5/9.8 MB 712.0 kB/s eta 0:00:08\n",
      "   ------------------ --------------------- 4.5/9.8 MB 712.0 kB/s eta 0:00:08\n",
      "   ------------------ --------------------- 4.5/9.8 MB 712.0 kB/s eta 0:00:08\n",
      "   ------------------ --------------------- 4.5/9.8 MB 712.0 kB/s eta 0:00:08\n",
      "   ------------------- -------------------- 4.7/9.8 MB 658.7 kB/s eta 0:00:08\n",
      "   ------------------- -------------------- 4.7/9.8 MB 658.7 kB/s eta 0:00:08\n",
      "   ------------------- -------------------- 4.7/9.8 MB 658.7 kB/s eta 0:00:08\n",
      "   -------------------- ------------------- 5.0/9.8 MB 637.0 kB/s eta 0:00:08\n",
      "   -------------------- ------------------- 5.0/9.8 MB 637.0 kB/s eta 0:00:08\n",
      "   -------------------- ------------------- 5.0/9.8 MB 637.0 kB/s eta 0:00:08\n",
      "   -------------------- ------------------- 5.0/9.8 MB 637.0 kB/s eta 0:00:08\n",
      "   -------------------- ------------------- 5.0/9.8 MB 637.0 kB/s eta 0:00:08\n",
      "   -------------------- ------------------- 5.0/9.8 MB 637.0 kB/s eta 0:00:08\n",
      "   --------------------- ------------------ 5.2/9.8 MB 588.1 kB/s eta 0:00:08\n",
      "   --------------------- ------------------ 5.2/9.8 MB 588.1 kB/s eta 0:00:08\n",
      "   --------------------- ------------------ 5.2/9.8 MB 588.1 kB/s eta 0:00:08\n",
      "   ---------------------- ----------------- 5.5/9.8 MB 574.6 kB/s eta 0:00:08\n",
      "   ---------------------- ----------------- 5.5/9.8 MB 574.6 kB/s eta 0:00:08\n",
      "   ---------------------- ----------------- 5.5/9.8 MB 574.6 kB/s eta 0:00:08\n",
      "   ----------------------- ---------------- 5.8/9.8 MB 567.4 kB/s eta 0:00:08\n",
      "   ----------------------- ---------------- 5.8/9.8 MB 567.4 kB/s eta 0:00:08\n",
      "   ----------------------- ---------------- 5.8/9.8 MB 567.4 kB/s eta 0:00:08\n",
      "   ------------------------ --------------- 6.0/9.8 MB 559.2 kB/s eta 0:00:07\n",
      "   ------------------------ --------------- 6.0/9.8 MB 559.2 kB/s eta 0:00:07\n",
      "   ------------------------- -------------- 6.3/9.8 MB 557.6 kB/s eta 0:00:07\n",
      "   ------------------------- -------------- 6.3/9.8 MB 557.6 kB/s eta 0:00:07\n",
      "   -------------------------- ------------- 6.6/9.8 MB 559.2 kB/s eta 0:00:06\n",
      "   -------------------------- ------------- 6.6/9.8 MB 559.2 kB/s eta 0:00:06\n",
      "   --------------------------- ------------ 6.8/9.8 MB 563.0 kB/s eta 0:00:06\n",
      "   --------------------------- ------------ 6.8/9.8 MB 563.0 kB/s eta 0:00:06\n",
      "   ---------------------------- ----------- 7.1/9.8 MB 568.7 kB/s eta 0:00:05\n",
      "   ----------------------------- ---------- 7.3/9.8 MB 575.6 kB/s eta 0:00:05\n",
      "   ----------------------------- ---------- 7.3/9.8 MB 575.6 kB/s eta 0:00:05\n",
      "   ------------------------------ --------- 7.6/9.8 MB 577.1 kB/s eta 0:00:04\n",
      "   ------------------------------ --------- 7.6/9.8 MB 577.1 kB/s eta 0:00:04\n",
      "   -------------------------------- ------- 7.9/9.8 MB 580.6 kB/s eta 0:00:04\n",
      "   --------------------------------- ------ 8.1/9.8 MB 588.0 kB/s eta 0:00:03\n",
      "   --------------------------------- ------ 8.1/9.8 MB 588.0 kB/s eta 0:00:03\n",
      "   ---------------------------------- ----- 8.4/9.8 MB 595.0 kB/s eta 0:00:03\n",
      "   ----------------------------------- ---- 8.7/9.8 MB 601.9 kB/s eta 0:00:02\n",
      "   ----------------------------------- ---- 8.7/9.8 MB 601.9 kB/s eta 0:00:02\n",
      "   ------------------------------------ --- 8.9/9.8 MB 604.4 kB/s eta 0:00:02\n",
      "   ------------------------------------ --- 8.9/9.8 MB 604.4 kB/s eta 0:00:02\n",
      "   ------------------------------------- -- 9.2/9.8 MB 606.8 kB/s eta 0:00:02\n",
      "   ------------------------------------- -- 9.2/9.8 MB 606.8 kB/s eta 0:00:02\n",
      "   -------------------------------------- - 9.4/9.8 MB 606.6 kB/s eta 0:00:01\n",
      "   -------------------------------------- - 9.4/9.8 MB 606.6 kB/s eta 0:00:01\n",
      "   ---------------------------------------  9.7/9.8 MB 606.4 kB/s eta 0:00:01\n",
      "   ---------------------------------------- 9.8/9.8 MB 603.5 kB/s eta 0:00:00\n",
      "Downloading patsy-1.0.1-py2.py3-none-any.whl (232 kB)\n",
      "Installing collected packages: patsy, statsmodels\n",
      "Successfully installed patsy-1.0.1 statsmodels-0.14.4\n",
      "Note: you may need to restart the kernel to use updated packages.\n"
     ]
    },
    {
     "name": "stderr",
     "output_type": "stream",
     "text": [
      "\n",
      "[notice] A new release of pip is available: 24.2 -> 24.3.1\n",
      "[notice] To update, run: python.exe -m pip install --upgrade pip\n"
     ]
    }
   ],
   "source": [
    "pip install  statsmodels"
   ]
  },
  {
   "cell_type": "code",
   "execution_count": 49,
   "id": "b0523e22-84e1-4924-87ef-3e26bd361ed8",
   "metadata": {},
   "outputs": [
    {
     "name": "stdout",
     "output_type": "stream",
     "text": [
      "                            OLS Regression Results                            \n",
      "==============================================================================\n",
      "Dep. Variable:            Family_size   R-squared:                       0.031\n",
      "Model:                            OLS   Adj. R-squared:                  0.031\n",
      "Method:                 Least Squares   F-statistic:                     111.8\n",
      "Date:                Wed, 11 Dec 2024   Prob (F-statistic):           9.60e-26\n",
      "Time:                        15:02:58   Log-Likelihood:                -6578.1\n",
      "No. Observations:                3492   AIC:                         1.316e+04\n",
      "Df Residuals:                    3490   BIC:                         1.317e+04\n",
      "Df Model:                           1                                         \n",
      "Covariance Type:            nonrobust                                         \n",
      "==============================================================================\n",
      "                 coef    std err          t      P>|t|      [0.025      0.975]\n",
      "------------------------------------------------------------------------------\n",
      "const          3.8310      0.083     45.956      0.000       3.668       3.994\n",
      "Age           -0.0200      0.002    -10.574      0.000      -0.024      -0.016\n",
      "==============================================================================\n",
      "Omnibus:                      533.565   Durbin-Watson:                   1.977\n",
      "Prob(Omnibus):                  0.000   Jarque-Bera (JB):              963.631\n",
      "Skew:                           0.972   Prob(JB):                    5.62e-210\n",
      "Kurtosis:                       4.686   Cond. No.                         136.\n",
      "==============================================================================\n",
      "\n",
      "Notes:\n",
      "[1] Standard Errors assume that the covariance matrix of the errors is correctly specified.\n"
     ]
    }
   ],
   "source": [
    "#P-values: Help us to determine the statistical significance of each feature in the model.\n",
    "import statsmodels.api as sm\n",
    "X = df[['Age']]  # Independent variable \n",
    "y = df['Family_size']  # Dependent variable \n",
    "\n",
    "X_train_sm = sm.add_constant(X_train)  # Add a constant for the intercept\n",
    "model_sm = sm.OLS(y_train, X_train_sm).fit()\n",
    "print(model_sm.summary())"
   ]
  },
  {
   "cell_type": "code",
   "execution_count": 50,
   "id": "c780be8b-2de2-4c23-95eb-9bd677840059",
   "metadata": {},
   "outputs": [
    {
     "name": "stdout",
     "output_type": "stream",
     "text": [
      "1551   -1.350493\n",
      "561     0.310247\n",
      "621    -1.990090\n",
      "2825   -0.330471\n",
      "1611   -0.030135\n",
      "          ...   \n",
      "1174   -2.290426\n",
      "203    -0.669731\n",
      "3726    1.509350\n",
      "4259   -1.150269\n",
      "1228   -1.349372\n",
      "Name: Family_size, Length: 873, dtype: float64\n"
     ]
    }
   ],
   "source": [
    "#  Residuals(Errors)\n",
    "# Residuals are the differences between the observed values and the values predicted by the model. \n",
    "# Analyzing residuals helps to check if the assumptions of linear regression are sataisfied (e.g., linearity, homoscedasticity).\n",
    "residuals = y_test - y_pred\n",
    "print(residuals)\n"
   ]
  },
  {
   "cell_type": "code",
   "execution_count": 54,
   "id": "cde925cc-2060-4592-929b-24245ccc4e27",
   "metadata": {},
   "outputs": [
    {
     "data": {
      "image/png": "[encoded data removed]",
      "text/plain": [
       "<Figure size 1200x600 with 1 Axes>"
      ]
     },
     "metadata": {},
     "output_type": "display_data"
    }
   ],
   "source": [
    "## (f)\n",
    "plt.figure(figsize=(12,6))\n",
    "plt.scatter(X_test, y_test, color='blue', label='Actual data') \n",
    "plt.plot(X_test, y_pred, color='red', label='Regression line')  \n",
    "plt.title('Linear Regression: Actual vs Predicted', fontsize=14)\n",
    "plt.xlabel('Age', fontsize=12)\n",
    "plt.ylabel('Family_size', fontsize=12)\n",
    "plt.legend()\n",
    "plt.show()"
   ]
  },
  {
   "cell_type": "markdown",
   "id": "e83cfa23-fc88-48b4-b0f9-7ee93243b2f7",
   "metadata": {},
   "source": [
    "## QUESTION 4 (BONUS QTN)¶"
   ]
  },
  {
   "cell_type": "code",
   "execution_count": 14,
   "id": "ee39109a-e084-467b-ba7b-4c8bf258bedf",
   "metadata": {},
   "outputs": [
    {
     "name": "stdout",
     "output_type": "stream",
     "text": [
      "[[44 15]\n",
      " [44 18]\n",
      " [64 20]\n",
      " [28 11]\n",
      " [28 10]]\n"
     ]
    }
   ],
   "source": [
    "## I USED KNOWLEDGE FROM MATHEMATICAL COMPUTING\n",
    "\n",
    "# 4(a)\n",
    "## Let x be a 5x3 matrix and y be a 3x2 matrix.\n",
    "x = np.array([[2,3,4],\n",
    "              [6,2,2],\n",
    "              [2,8,4],\n",
    "              [3,1,2],\n",
    "              [2,2,2]])\n",
    "y = np.array([[4,2],\n",
    "              [4,1],\n",
    "              [6,2]])\n",
    "\n",
    "# multiplying a 5x3 by a 3x2\n",
    "z=np.dot(x,y)\n",
    "print(z)\n"
   ]
  },
  {
   "cell_type": "code",
   "execution_count": 13,
   "id": "1bd51109-262c-4465-9a73-c8d41493e12d",
   "metadata": {},
   "outputs": [
    {
     "name": "stdout",
     "output_type": "stream",
     "text": [
      "[[1. 0. 0.]\n",
      " [0. 1. 0.]\n",
      " [0. 0. 1.]]\n"
     ]
    }
   ],
   "source": [
    "# 4 (b)\n",
    "identity_matrix = np.eye(3)\n",
    "print(identity_matrix)"
   ]
  },
  {
   "cell_type": "code",
   "execution_count": null,
   "id": "ab36fb97-9c2c-4adf-a9de-ac4ec272b2e7",
   "metadata": {},
   "outputs": [],
   "source": []
  },
  {
   "cell_type": "code",
   "execution_count": 12,
   "id": "71f713d7-b58f-4c37-b2ac-e3ec8a5850d8",
   "metadata": {},
   "outputs": [
    {
     "name": "stdout",
     "output_type": "stream",
     "text": [
      "[10 11 12 13 14 15 16 17 18 19 20 21 22 23 24 25 26 27 28 29 30 31 32 33\n",
      " 34 35 36 37 38 39 40 41 42 43 44 45 46 47 48 49]\n"
     ]
    }
   ],
   "source": [
    "## 4 (c)\n",
    "# Create a vector with values from 10 to 49\n",
    "vector = np.arange(10, 50)\n",
    "print(vector)\n"
   ]
  },
  {
   "cell_type": "code",
   "execution_count": 11,
   "id": "80e5844f-2637-4b22-a473-66232dfae79c",
   "metadata": {},
   "outputs": [
    {
     "name": "stdout",
     "output_type": "stream",
     "text": [
      "[0. 0. 0. 0. 0. 0. 0. 0. 0. 0.]\n"
     ]
    }
   ],
   "source": [
    "## 4 (d)\n",
    "# Create a null vector of size 10\n",
    "null_vector = np.zeros(10)\n",
    "print(null_vector)\n"
   ]
  },
  {
   "cell_type": "code",
   "execution_count": 10,
   "id": "e5fd252f-49bd-4a7e-ad9a-7fc41342cbc6",
   "metadata": {},
   "outputs": [
    {
     "name": "stdout",
     "output_type": "stream",
     "text": [
      "[[[0.27530233 0.48267686 0.8224928  0.87292688]\n",
      "  [0.00686801 0.63540749 0.17994306 0.78859002]\n",
      "  [0.47442208 0.6149503  0.8713359  0.98218157]\n",
      "  [0.21047764 0.00628777 0.39230419 0.78481968]]\n",
      "\n",
      " [[0.50387322 0.36323477 0.06434439 0.85056551]\n",
      "  [0.89301657 0.52774681 0.50088872 0.81574098]\n",
      "  [0.12527413 0.35957017 0.19224288 0.80041343]\n",
      "  [0.64648996 0.09791138 0.20543455 0.27879977]]\n",
      "\n",
      " [[0.85930485 0.59741414 0.90756282 0.07845081]\n",
      "  [0.93280162 0.10557357 0.42697467 0.65404428]\n",
      "  [0.41872064 0.4817467  0.31075164 0.64268326]\n",
      "  [0.28868584 0.70927299 0.39067277 0.91228497]]\n",
      "\n",
      " [[0.97535545 0.88375955 0.026161   0.30232376]\n",
      "  [0.77543039 0.70760111 0.90698423 0.94824334]\n",
      "  [0.1640004  0.14948066 0.28101856 0.6803089 ]\n",
      "  [0.36627508 0.29991588 0.16289245 0.28043497]]]\n"
     ]
    }
   ],
   "source": [
    "## 4 (e)\n",
    "# Create a 3x3x3 array with random values\n",
    "random_array = np.random.rand(4, 4, 4)\n",
    "print(random_array)\n"
   ]
  },
  {
   "cell_type": "code",
   "execution_count": 9,
   "id": "d65802e8-2c5e-4b0e-9e13-32011c6b81dc",
   "metadata": {},
   "outputs": [
    {
     "name": "stdout",
     "output_type": "stream",
     "text": [
      "[[0 0 0 0 0]\n",
      " [1 0 0 0 0]\n",
      " [0 2 0 0 0]\n",
      " [0 0 3 0 0]\n",
      " [0 0 0 4 0]]\n"
     ]
    }
   ],
   "source": [
    "## 4 (f)\n",
    "# Create a 5x5 matrix with values 1, 2, 3, 4 just below the diagonal\n",
    "matrix = np.diag([1, 2, 3, 4], k=-1)\n",
    "print(matrix)"
   ]
  },
  {
   "cell_type": "code",
   "execution_count": 8,
   "id": "b751fd8c-625c-498c-afca-2d4c1830a97c",
   "metadata": {},
   "outputs": [
    {
     "name": "stdout",
     "output_type": "stream",
     "text": [
      "[[0.38226139 0.59732331 0.32957343 0.41211498 0.56590083]\n",
      " [0.35627927 0.41281212 0.05589896 1.         0.7059772 ]\n",
      " [0.33140267 0.2438086  0.70789421 0.         0.3582867 ]\n",
      " [0.10929452 0.62699042 0.80086164 0.40056304 0.43445006]\n",
      " [0.9416017  0.65899116 0.82804191 0.06335555 0.62662648]]\n"
     ]
    }
   ],
   "source": [
    "## 4 (g)\n",
    "# Create a 5x5 matrix with random values\n",
    "random_matrix = np.random.rand(5, 5)\n",
    "\n",
    "# Normalizizing the matrix\n",
    "normalized_matrix = (random_matrix - np.min(random_matrix)) / (np.max(random_matrix) - np.min(random_matrix))\n",
    "print(normalized_matrix)\n"
   ]
  },
  {
   "cell_type": "code",
   "execution_count": 7,
   "id": "a5e8c809-52a0-4e8f-9b6b-c9c3f197f4ba",
   "metadata": {},
   "outputs": [
    {
     "name": "stdout",
     "output_type": "stream",
     "text": [
      "Yesterday: 2024-12-10\n",
      "Today: 2024-12-11\n",
      "Tomorrow: 2024-12-12\n"
     ]
    }
   ],
   "source": [
    "## 4(h)\n",
    "from datetime import datetime, timedelta\n",
    "\n",
    "# Getting today's date\n",
    "today = datetime.today()\n",
    "\n",
    "# Getting yesterday's date we subtract one day from today\n",
    "yesterday = today - timedelta(days=1)\n",
    "\n",
    "# Getting tomorrow's date we add one day to today\n",
    "tomorrow = today + timedelta(days=1)\n",
    "\n",
    "# Printting  the dates\n",
    "print(\"Yesterday:\", yesterday.date())\n",
    "print(\"Today:\", today.date())\n",
    "print(\"Tomorrow:\", tomorrow.date())\n"
   ]
  },
  {
   "cell_type": "code",
   "execution_count": 6,
   "id": "cf16ec20-7912-4bbd-ac90-8a57ada930f8",
   "metadata": {},
   "outputs": [
    {
     "name": "stdout",
     "output_type": "stream",
     "text": [
      "Indices of non-zero elements: [0 1 4]\n"
     ]
    }
   ],
   "source": [
    "## 4(i)\n",
    "# Creating the array(Let A be the array)\n",
    "A = np.array([1, 2, 0, 0, 4, 0])\n",
    "\n",
    "# Finding indices of non-zero elements\n",
    "non_zero_indices = np.nonzero(A)\n",
    "print(\"Indices of non-zero elements:\", non_zero_indices[0])\n",
    "## EXPLANATION\n",
    "# np.array([1, 2, 0, 0, 4, 0]):  converts the list into a numpy array.\n",
    "# np.nonzero(A): This function returns the array in a tuple form, each containing the indices of non-zero elements in the input array.\n",
    "# In this case, non_zero_indices[0] will return the indices of non-zero elements as a flat array.\n",
    "# The result will be an array of indices where the non-zero elements are located (in this case, it will return [0, 1, 4], meaning that the non-zero elements are at positions 0, 1, and 4 in the array)."
   ]
  },
  {
   "cell_type": "code",
   "execution_count": null,
   "id": "a11c07ea-ef62-4c7c-83d6-c672f93e19d6",
   "metadata": {},
   "outputs": [],
   "source": []
  }
 ],
 "metadata": {
  "kernelspec": {
   "display_name": "Python 3 (ipykernel)",
   "language": "python",
   "name": "python3"
  },
  "language_info": {
   "codemirror_mode": {
    "name": "ipython",
    "version": 3
   },
   "file_extension": ".py",
   "mimetype": "text/x-python",
   "name": "python",
   "nbconvert_exporter": "python",
   "pygments_lexer": "ipython3",
   "version": "3.12.5"
  }
 },
 "nbformat": 4,
 "nbformat_minor": 5
}
